{
 "cells": [
  {
   "cell_type": "markdown",
   "metadata": {},
   "source": [
    "## prima delle regexp ##\n",
    "1951 Stephen Cole Kleene - poi nel 1961 Ken Thompson (unix)\n",
    "\n",
    "Servono in python?\n",
    "\n",
    "Posso cercare delle stringhe con __in__, __==__, __find()__ e __index()__"
   ]
  },
  {
   "cell_type": "code",
   "execution_count": 1,
   "metadata": {},
   "outputs": [
    {
     "name": "stdout",
     "output_type": "stream",
     "text": [
      "ok\n"
     ]
    }
   ],
   "source": [
    "if 'abc' in 'foo_abc_bar':\n",
    "    print('ok')"
   ]
  },
  {
   "cell_type": "code",
   "execution_count": 2,
   "metadata": {},
   "outputs": [
    {
     "data": {
      "text/plain": [
       "False"
      ]
     },
     "execution_count": 2,
     "metadata": {},
     "output_type": "execute_result"
    }
   ],
   "source": [
    "'abc' == 'foo_abc_bar'"
   ]
  },
  {
   "cell_type": "code",
   "execution_count": 3,
   "metadata": {},
   "outputs": [
    {
     "data": {
      "text/plain": [
       "2"
      ]
     },
     "execution_count": 3,
     "metadata": {},
     "output_type": "execute_result"
    }
   ],
   "source": [
    "s = 'foobar'\n",
    "s.index('oba')"
   ]
  },
  {
   "cell_type": "code",
   "execution_count": 4,
   "metadata": {},
   "outputs": [
    {
     "data": {
      "text/plain": [
       "3"
      ]
     },
     "execution_count": 4,
     "metadata": {},
     "output_type": "execute_result"
    }
   ],
   "source": [
    "s.find('bar')"
   ]
  },
  {
   "cell_type": "markdown",
   "metadata": {},
   "source": [
    "## Operazioni con RegExp ##\n",
    "Regular expressions (called REs, or regexes, or regex patterns) are essentially a tiny, highly specialized programming language embedded inside Python and made available through the re module.\n",
    "\n",
    "[ and ]. They’re used for specifying a character class, which is a set of characters that you wish to match."
   ]
  },
  {
   "cell_type": "code",
   "execution_count": 5,
   "metadata": {},
   "outputs": [
    {
     "name": "stdout",
     "output_type": "stream",
     "text": [
      "<re.Match object; span=(0, 3), match='abc'>\n",
      "<re.Match object; span=(0, 3), match='abc'>\n",
      "<re.Match object; span=(0, 3), match='abc'>\n",
      "<re.Match object; span=(0, 3), match='foo'>\n",
      "<re.Match object; span=(0, 3), match='Foo'>\n"
     ]
    }
   ],
   "source": [
    "import re\n",
    "p = re.compile('abc')\n",
    "ret = p.match(\"abc\")\n",
    "print(ret)\n",
    "ret = p.match(\"abcd\")\n",
    "print(ret)\n",
    "ret = p.match(\"abcdef\")\n",
    "print(ret)\n",
    "\n",
    "#oppure  direttamente:\n",
    "ret = re.search('foo', 'foobar')\n",
    "print(ret)\n",
    "\n",
    "#terzo parametro\n",
    "ret = re.search('foo', 'Foobar', re.IGNORECASE)\n",
    "print(ret)"
   ]
  },
  {
   "cell_type": "markdown",
   "metadata": {},
   "source": [
    "Il pattern è _abc_ e si attiva se ho abc, abcd, abcded. Basta che ci sia la sequenza __abc__ nella stringa.\n",
    "\n",
    "Per cercare un pattern numerico es 123:"
   ]
  },
  {
   "cell_type": "code",
   "execution_count": 6,
   "metadata": {},
   "outputs": [
    {
     "name": "stdout",
     "output_type": "stream",
     "text": [
      "None\n",
      "None\n",
      "None\n"
     ]
    }
   ],
   "source": [
    "p2 = re.compile('123')\n",
    "\n",
    "ret = p2.match(\"abc123def\")\n",
    "print(ret)\n",
    "ret = p2.match(\"+39.334123546\")\n",
    "print(ret)\n",
    "ret = p2.match(\"m.rossi123@gmail.com\")\n",
    "print(ret)"
   ]
  },
  {
   "cell_type": "markdown",
   "metadata": {},
   "source": [
    "L'oggetto _match_ vale come true"
   ]
  },
  {
   "cell_type": "code",
   "execution_count": 7,
   "metadata": {},
   "outputs": [
    {
     "name": "stdout",
     "output_type": "stream",
     "text": [
      "ok\n"
     ]
    }
   ],
   "source": [
    "if re.search('123', 'foo123bar'):\n",
    "    print(\"ok\")"
   ]
  },
  {
   "cell_type": "code",
   "execution_count": 8,
   "metadata": {},
   "outputs": [
    {
     "data": {
      "text/plain": [
       "<re.Match object; span=(3, 6), match='123'>"
      ]
     },
     "execution_count": 8,
     "metadata": {},
     "output_type": "execute_result"
    }
   ],
   "source": [
    "re.search('123', 'foo123bar')"
   ]
  },
  {
   "cell_type": "markdown",
   "metadata": {},
   "source": [
    "_match_ indica gli indici in cui ha fatto match e la stringa che si è attivata"
   ]
  },
  {
   "cell_type": "markdown",
   "metadata": {},
   "source": [
    "## metacaratteri ##\n",
    "[] - tra le parentesi una sequnza di caratteri che voglio cercare. Anche intervalli con -\n",
    "\n",
    "Qui una seq. di 3 caratteri numerici:"
   ]
  },
  {
   "cell_type": "code",
   "execution_count": 9,
   "metadata": {},
   "outputs": [
    {
     "data": {
      "text/plain": [
       "<re.Match object; span=(3, 6), match='123'>"
      ]
     },
     "execution_count": 9,
     "metadata": {},
     "output_type": "execute_result"
    }
   ],
   "source": [
    "re.search('[0-9][0-9][0-9]', 'foo123bar')"
   ]
  },
  {
   "cell_type": "code",
   "execution_count": 10,
   "metadata": {},
   "outputs": [],
   "source": [
    "re.search('[0-9][0-9][0-9]', 'foo12bar')"
   ]
  },
  {
   "cell_type": "code",
   "execution_count": 11,
   "metadata": {},
   "outputs": [
    {
     "data": {
      "text/plain": [
       "<re.Match object; span=(0, 3), match='567'>"
      ]
     },
     "execution_count": 11,
     "metadata": {},
     "output_type": "execute_result"
    }
   ],
   "source": [
    "re.search('[0-9][0-9][0-9]', '567bar')"
   ]
  },
  {
   "cell_type": "code",
   "execution_count": 12,
   "metadata": {},
   "outputs": [],
   "source": [
    "re.search('[0-9][0-9][0-9]', '13bar')"
   ]
  },
  {
   "cell_type": "markdown",
   "metadata": {},
   "source": [
    "Il . fa match con ogni carattere escluso \\n"
   ]
  },
  {
   "cell_type": "code",
   "execution_count": 13,
   "metadata": {},
   "outputs": [
    {
     "name": "stdout",
     "output_type": "stream",
     "text": [
      "<re.Match object; span=(3, 6), match='123'>\n",
      "None\n",
      "None\n"
     ]
    }
   ],
   "source": [
    "print(re.search('1.3', 'foo123bar'))\n",
    "print(re.search('1.3', 'foo13bar'))\n",
    "print(re.search('1.3', 'foo1563bar'))"
   ]
  },
  {
   "cell_type": "markdown",
   "metadata": {},
   "source": [
    "Ancora esempi con []: fa match di un set di caratteri per una sola posizione"
   ]
  },
  {
   "cell_type": "code",
   "execution_count": 14,
   "metadata": {},
   "outputs": [
    {
     "name": "stdout",
     "output_type": "stream",
     "text": [
      "<re.Match object; span=(6, 9), match='bar'>\n",
      "<re.Match object; span=(3, 6), match='baz'>\n",
      "None\n",
      "None\n"
     ]
    }
   ],
   "source": [
    "print(re.search('ba[rsz]', 'foo123bar'))\n",
    "print(re.search('ba[rsz]', 'foobaz'))\n",
    "print(re.search('ba[rsz]', 'foobax'))\n",
    "print(re.search('ba[rsz]', 'fooba'))"
   ]
  },
  {
   "cell_type": "markdown",
   "metadata": {},
   "source": [
    "Match di caratteri hex:"
   ]
  },
  {
   "cell_type": "code",
   "execution_count": 15,
   "metadata": {},
   "outputs": [
    {
     "name": "stdout",
     "output_type": "stream",
     "text": [
      "<re.Match object; span=(3, 5), match='a0'>\n",
      "<re.Match object; span=(5, 7), match='A9'>\n"
     ]
    }
   ],
   "source": [
    "pat = '[0-9a-fA-Z][0-9a-fA-Z]'\n",
    "print(re.search(pat, '___a0____'))\n",
    "print(re.search(pat, '___a_A9___'))"
   ]
  },
  {
   "cell_type": "markdown",
   "metadata": {},
   "source": [
    "Cerco 2 caratteri non numerici. ^ = NOT"
   ]
  },
  {
   "cell_type": "code",
   "execution_count": 16,
   "metadata": {},
   "outputs": [
    {
     "name": "stdout",
     "output_type": "stream",
     "text": [
      "None\n",
      "<re.Match object; span=(0, 2), match='ab'>\n"
     ]
    }
   ],
   "source": [
    "pat = '[^0-9][^0-9]'\n",
    "print(re.search(pat, 'a0'))\n",
    "print(re.search(pat, 'abA9'))"
   ]
  },
  {
   "cell_type": "markdown",
   "metadata": {},
   "source": [
    "il - messo prima [] (all'inizio) - se lo voglio cercare come carttere"
   ]
  },
  {
   "cell_type": "code",
   "execution_count": 17,
   "metadata": {},
   "outputs": [
    {
     "name": "stdout",
     "output_type": "stream",
     "text": [
      "<re.Match object; span=(3, 6), match='-07'>\n"
     ]
    }
   ],
   "source": [
    "pat = '[-0-9][0-9][0-9]'\n",
    "print(re.search(pat, 'lun-07-24'))"
   ]
  },
  {
   "cell_type": "markdown",
   "metadata": {},
   "source": [
    "## Anchor ##\n",
    "^ = inizia per\n",
    "\n",
    "$ = finisce per"
   ]
  },
  {
   "cell_type": "code",
   "execution_count": 18,
   "metadata": {},
   "outputs": [
    {
     "name": "stdout",
     "output_type": "stream",
     "text": [
      "None\n",
      "<re.Match object; span=(0, 3), match='foo'>\n",
      "None\n"
     ]
    }
   ],
   "source": [
    "pat = '^foo'\n",
    "print(re.search(pat, 'foxbar'))\n",
    "print(re.search(pat, 'foobar'))\n",
    "print(re.search(pat, 'ufoobar'))"
   ]
  },
  {
   "cell_type": "code",
   "execution_count": 19,
   "metadata": {},
   "outputs": [
    {
     "name": "stdout",
     "output_type": "stream",
     "text": [
      "<re.Match object; span=(3, 6), match='bar'>\n",
      "None\n",
      "None\n"
     ]
    }
   ],
   "source": [
    "pat = 'bar$'\n",
    "print(re.search(pat, 'foobar'))\n",
    "print(re.search(pat, 'foobarx'))\n",
    "print(re.search(pat, 'ubaroba'))"
   ]
  },
  {
   "cell_type": "markdown",
   "metadata": {},
   "source": [
    "## quantificatori ##\n",
    "\\* = 0 o più"
   ]
  },
  {
   "cell_type": "code",
   "execution_count": 20,
   "metadata": {},
   "outputs": [
    {
     "name": "stdout",
     "output_type": "stream",
     "text": [
      "<re.Match object; span=(0, 2), match='ba'>\n",
      "<re.Match object; span=(0, 5), match='baaaa'>\n",
      "<re.Match object; span=(0, 1), match='b'>\n"
     ]
    }
   ],
   "source": [
    "pat = 'ba*'\n",
    "print(re.search(pat, 'bar'))\n",
    "print(re.search(pat, 'baaaar'))\n",
    "print(re.search(pat, 'br'))"
   ]
  },
  {
   "cell_type": "code",
   "execution_count": 21,
   "metadata": {},
   "outputs": [
    {
     "name": "stdout",
     "output_type": "stream",
     "text": [
      "<re.Match object; span=(0, 6), match='foobar'>\n",
      "<re.Match object; span=(0, 11), match='foohellobar'>\n"
     ]
    }
   ],
   "source": [
    "#qualsiasi cosa tra foo e bar\n",
    "pat = 'foo.*bar'\n",
    "print(re.search(pat, 'foobar'))\n",
    "print(re.search(pat, 'foohellobar'))\n"
   ]
  },
  {
   "cell_type": "markdown",
   "metadata": {},
   "source": [
    "\\+ = almeno 1"
   ]
  },
  {
   "cell_type": "code",
   "execution_count": 22,
   "metadata": {},
   "outputs": [
    {
     "name": "stdout",
     "output_type": "stream",
     "text": [
      "None\n",
      "<re.Match object; span=(0, 11), match='foohellobar'>\n"
     ]
    }
   ],
   "source": [
    "#almeno un carattere tra foo e bar\n",
    "pat = 'foo.+bar'\n",
    "print(re.search(pat, 'foobar'))\n",
    "print(re.search(pat, 'foohellobar'))"
   ]
  },
  {
   "cell_type": "markdown",
   "metadata": {},
   "source": [
    "\\? = nessuno o un match"
   ]
  },
  {
   "cell_type": "code",
   "execution_count": 23,
   "metadata": {},
   "outputs": [
    {
     "name": "stdout",
     "output_type": "stream",
     "text": [
      "<re.Match object; span=(0, 6), match='foobar'>\n",
      "<re.Match object; span=(0, 7), match='fooxbar'>\n",
      "None\n",
      "None\n"
     ]
    }
   ],
   "source": [
    "pat = 'foox?bar'\n",
    "print(re.search(pat, 'foobar'))\n",
    "print(re.search(pat, 'fooxbar'))\n",
    "print(re.search(pat, 'fooxxxbar'))\n",
    "print(re.search(pat, 'foodbar'))"
   ]
  },
  {
   "cell_type": "code",
   "execution_count": null,
   "metadata": {},
   "outputs": [],
   "source": []
  }
 ],
 "metadata": {
  "kernelspec": {
   "display_name": "Python 3 (ipykernel)",
   "language": "python",
   "name": "python3"
  },
  "language_info": {
   "codemirror_mode": {
    "name": "ipython",
    "version": 3
   },
   "file_extension": ".py",
   "mimetype": "text/x-python",
   "name": "python",
   "nbconvert_exporter": "python",
   "pygments_lexer": "ipython3",
   "version": "3.12.2"
  }
 },
 "nbformat": 4,
 "nbformat_minor": 4
}
