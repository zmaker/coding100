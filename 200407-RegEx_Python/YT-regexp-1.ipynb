{
 "cells": [
  {
   "cell_type": "markdown",
   "metadata": {},
   "source": [
    "## regexp ##"
   ]
  },
  {
   "cell_type": "code",
   "execution_count": 2,
   "metadata": {},
   "outputs": [
    {
     "name": "stdout",
     "output_type": "stream",
     "text": [
      "trovato\n"
     ]
    }
   ],
   "source": [
    "if 'abc' in 'foo_bar_abc':\n",
    "    print('trovato')"
   ]
  },
  {
   "cell_type": "code",
   "execution_count": 3,
   "metadata": {},
   "outputs": [
    {
     "data": {
      "text/plain": [
       "False"
      ]
     },
     "execution_count": 3,
     "metadata": {},
     "output_type": "execute_result"
    }
   ],
   "source": [
    "'abc' == 'foo_bar_abc'"
   ]
  },
  {
   "cell_type": "code",
   "execution_count": 7,
   "metadata": {},
   "outputs": [
    {
     "data": {
      "text/plain": [
       "3"
      ]
     },
     "execution_count": 7,
     "metadata": {},
     "output_type": "execute_result"
    }
   ],
   "source": [
    "s = \"foobar\"\n",
    "s.find('bar')\n",
    "#index meno sicuro"
   ]
  },
  {
   "cell_type": "code",
   "execution_count": 12,
   "metadata": {},
   "outputs": [
    {
     "name": "stdout",
     "output_type": "stream",
     "text": [
      "<re.Match object; span=(0, 3), match='abc'>\n"
     ]
    }
   ],
   "source": [
    "import re\n",
    "p = re.compile('abc')\n",
    "ans = p.match('abcbar')\n",
    "print(ans)"
   ]
  },
  {
   "cell_type": "code",
   "execution_count": 13,
   "metadata": {},
   "outputs": [
    {
     "data": {
      "text/plain": [
       "<re.Match object; span=(0, 3), match='foo'>"
      ]
     },
     "execution_count": 13,
     "metadata": {},
     "output_type": "execute_result"
    }
   ],
   "source": [
    "re.search('foo', 'foobar')"
   ]
  },
  {
   "cell_type": "code",
   "execution_count": 14,
   "metadata": {},
   "outputs": [
    {
     "data": {
      "text/plain": [
       "<re.Match object; span=(0, 3), match='Foo'>"
      ]
     },
     "execution_count": 14,
     "metadata": {},
     "output_type": "execute_result"
    }
   ],
   "source": [
    "re.search('foo', 'Foobar', re.IGNORECASE)"
   ]
  },
  {
   "cell_type": "code",
   "execution_count": 15,
   "metadata": {},
   "outputs": [],
   "source": [
    "re.search('foo', 'hellow', re.IGNORECASE)"
   ]
  },
  {
   "cell_type": "code",
   "execution_count": 16,
   "metadata": {},
   "outputs": [
    {
     "name": "stdout",
     "output_type": "stream",
     "text": [
      "trovato\n"
     ]
    }
   ],
   "source": [
    "if re.search('foo', 'foobar'):\n",
    "    print(\"trovato\")"
   ]
  },
  {
   "cell_type": "code",
   "execution_count": 19,
   "metadata": {},
   "outputs": [
    {
     "name": "stdout",
     "output_type": "stream",
     "text": [
      "<re.Match object; span=(3, 6), match='123'>\n",
      "None\n",
      "<re.Match object; span=(0, 3), match='567'>\n"
     ]
    }
   ],
   "source": [
    "pat = '[0-9][0-9][0-9]'\n",
    "print(re.search(pat, 'foo123bar'))\n",
    "print(re.search(pat, 'foo13bar'))\n",
    "print(re.search(pat, '567bar'))"
   ]
  },
  {
   "cell_type": "code",
   "execution_count": 22,
   "metadata": {},
   "outputs": [
    {
     "name": "stdout",
     "output_type": "stream",
     "text": [
      "<re.Match object; span=(3, 6), match='123'>\n",
      "None\n",
      "None\n",
      "<re.Match object; span=(3, 6), match='153'>\n",
      "None\n"
     ]
    }
   ],
   "source": [
    "pat = '1.3'\n",
    "print(re.search(pat, 'foo123bar'))\n",
    "print(re.search(pat, 'foo13bar'))\n",
    "print(re.search(pat, '567bar'))\n",
    "print(re.search(pat, 'foo153bar'))\n",
    "print(re.search(pat, 'foo1553bar'))"
   ]
  },
  {
   "cell_type": "code",
   "execution_count": 24,
   "metadata": {},
   "outputs": [
    {
     "name": "stdout",
     "output_type": "stream",
     "text": [
      "<re.Match object; span=(3, 6), match='bar'>\n",
      "<re.Match object; span=(3, 6), match='baz'>\n",
      "<re.Match object; span=(3, 6), match='bas'>\n",
      "None\n"
     ]
    }
   ],
   "source": [
    "pat = 'ba[rzs]'\n",
    "print(re.search(pat, 'foobar'))\n",
    "print(re.search(pat, 'foobaz'))\n",
    "print(re.search(pat, 'foobas'))\n",
    "print(re.search(pat, 'foobax'))\n"
   ]
  },
  {
   "cell_type": "code",
   "execution_count": 26,
   "metadata": {},
   "outputs": [
    {
     "name": "stdout",
     "output_type": "stream",
     "text": [
      "<re.Match object; span=(4, 6), match='A0'>\n",
      "<re.Match object; span=(5, 7), match='A0'>\n"
     ]
    }
   ],
   "source": [
    "pat = '[0-9a-fA-F][0-9a-fA-F]'\n",
    "print(re.search(pat, '____A0___'))\n",
    "print(re.search(pat, '__A__A0___'))"
   ]
  },
  {
   "cell_type": "code",
   "execution_count": 29,
   "metadata": {},
   "outputs": [
    {
     "name": "stdout",
     "output_type": "stream",
     "text": [
      "None\n",
      "<re.Match object; span=(0, 2), match='BB'>\n"
     ]
    }
   ],
   "source": [
    "pat = '[^0-9][^0-9]'\n",
    "print(re.search(pat, 'A0'))\n",
    "print(re.search(pat, 'BB'))"
   ]
  },
  {
   "cell_type": "code",
   "execution_count": 30,
   "metadata": {},
   "outputs": [
    {
     "name": "stdout",
     "output_type": "stream",
     "text": [
      "<re.Match object; span=(3, 6), match='-07'>\n",
      "None\n"
     ]
    }
   ],
   "source": [
    "pat = '[-0-9][0-9][0-9]'\n",
    "print(re.search(pat, 'lun-07-12'))\n",
    "print(re.search(pat, 'BB'))"
   ]
  },
  {
   "cell_type": "code",
   "execution_count": 31,
   "metadata": {},
   "outputs": [
    {
     "name": "stdout",
     "output_type": "stream",
     "text": [
      "<re.Match object; span=(0, 3), match='foo'>\n",
      "None\n"
     ]
    }
   ],
   "source": [
    "pat = '^foo'\n",
    "print(re.search(pat, 'foobar'))\n",
    "print(re.search(pat, 'afoobar'))"
   ]
  },
  {
   "cell_type": "code",
   "execution_count": 33,
   "metadata": {},
   "outputs": [
    {
     "name": "stdout",
     "output_type": "stream",
     "text": [
      "<re.Match object; span=(3, 6), match='bar'>\n",
      "None\n"
     ]
    }
   ],
   "source": [
    "pat = 'bar$'\n",
    "print(re.search(pat, 'foobar'))\n",
    "print(re.search(pat, 'afoobarx'))"
   ]
  },
  {
   "cell_type": "code",
   "execution_count": 36,
   "metadata": {},
   "outputs": [
    {
     "name": "stdout",
     "output_type": "stream",
     "text": [
      "<re.Match object; span=(0, 2), match='ba'>\n",
      "<re.Match object; span=(0, 5), match='baaaa'>\n",
      "<re.Match object; span=(0, 1), match='b'>\n"
     ]
    }
   ],
   "source": [
    "pat = 'ba*'\n",
    "print(re.search(pat, 'bar'))\n",
    "print(re.search(pat, 'baaaar'))\n",
    "print(re.search(pat, 'br'))"
   ]
  },
  {
   "cell_type": "code",
   "execution_count": 38,
   "metadata": {},
   "outputs": [
    {
     "name": "stdout",
     "output_type": "stream",
     "text": [
      "<re.Match object; span=(0, 6), match='foobar'>\n",
      "<re.Match object; span=(0, 11), match='foohellobar'>\n",
      "None\n"
     ]
    }
   ],
   "source": [
    "pat = 'foo.*bar'\n",
    "print(re.search(pat, 'foobar'))\n",
    "print(re.search(pat, 'foohellobar'))"
   ]
  },
  {
   "cell_type": "code",
   "execution_count": 39,
   "metadata": {},
   "outputs": [
    {
     "name": "stdout",
     "output_type": "stream",
     "text": [
      "None\n",
      "<re.Match object; span=(0, 11), match='foohellobar'>\n"
     ]
    }
   ],
   "source": [
    "pat = 'foo.+bar'\n",
    "print(re.search(pat, 'foobar'))\n",
    "print(re.search(pat, 'foohellobar'))"
   ]
  },
  {
   "cell_type": "code",
   "execution_count": 41,
   "metadata": {},
   "outputs": [
    {
     "name": "stdout",
     "output_type": "stream",
     "text": [
      "<re.Match object; span=(0, 6), match='foobar'>\n",
      "<re.Match object; span=(0, 7), match='fooxbar'>\n",
      "None\n"
     ]
    }
   ],
   "source": [
    "pat = 'foox?bar'\n",
    "print(re.search(pat, 'foobar'))\n",
    "print(re.search(pat, 'fooxbar'))\n",
    "print(re.search(pat, 'fooxxbar'))"
   ]
  },
  {
   "cell_type": "code",
   "execution_count": null,
   "metadata": {},
   "outputs": [],
   "source": []
  }
 ],
 "metadata": {
  "kernelspec": {
   "display_name": "Python 3",
   "language": "python",
   "name": "python3"
  },
  "language_info": {
   "codemirror_mode": {
    "name": "ipython",
    "version": 3
   },
   "file_extension": ".py",
   "mimetype": "text/x-python",
   "name": "python",
   "nbconvert_exporter": "python",
   "pygments_lexer": "ipython3",
   "version": "3.12.2"
  }
 },
 "nbformat": 4,
 "nbformat_minor": 2
}
